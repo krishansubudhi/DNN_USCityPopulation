{
 "cells": [
  {
   "cell_type": "markdown",
   "metadata": {},
   "source": [
    "# Find population of a US CITY based on\n",
    "    \n",
    "    ALAND\n",
    "    AWATER\n",
    "    LAT\n",
    "    LONG\n",
    "    STATE\n",
    "    UAtype\n",
    "\n",
    "https://www.census.gov/geo/maps-data/data/gazetteer2010.html\n",
    "\n",
    "steps to train a DNN\n",
    "1. Prepare data\n",
    "_ clean data\n",
    "_ vectorize/encode data\n",
    "_ split data in train,validation and test data\n",
    "2. Train model\n",
    "_ create model and layers\n",
    "_ compile mode(optimizer , metrics, loss)\n",
    "_ fit model(train data, validation data, epochs, mini batch size)\n",
    "3. Validate model\n",
    "_ validate on test data\n",
    "4. Repeat\n"
   ]
  },
  {
   "cell_type": "code",
   "execution_count": 1,
   "metadata": {},
   "outputs": [],
   "source": [
    "import pandas as pd\n",
    "import numpy as np\n"
   ]
  },
  {
   "cell_type": "code",
   "execution_count": 2,
   "metadata": {},
   "outputs": [],
   "source": [
    "#prepare data\n",
    "city_data = []\n",
    "#00037\tAbbeville, LA Urban Cluster\tC\t19824\t8460\t29222871\t300497\t      11.283\t       0.116\t 29.967602\t -92.098219  \n",
    "def parseline(line):\n",
    "    parts = line.split('\\t')\n",
    "    data={}\n",
    "    namepart = parts[1].split(',')\n",
    "    data['NAME']=namepart[0]\n",
    "    data['STATE']=namepart[1].strip().split()[0].strip()\n",
    "    data['UAtype']=parts[2]\n",
    "    data['POP10']= int(parts[3])\n",
    "    data['ALAND']= int(parts[5])\n",
    "    data['AWATER']= int(parts[6])\n",
    "    data['LAT']=float(parts[9])\n",
    "    data['LONG']=float(parts[10])\n",
    "    return data\n",
    "with open('Gaz_ua_national.txt','r') as file:\n",
    "    city_data = [ parseline(line.strip()) for line in file.readlines()[1:]]"
   ]
  },
  {
   "cell_type": "code",
   "execution_count": 3,
   "metadata": {},
   "outputs": [
    {
     "data": {
      "text/plain": [
       "{'NAME': 'Zuni Pueblo',\n",
       " 'STATE': 'NM',\n",
       " 'UAtype': 'C',\n",
       " 'POP10': 6744,\n",
       " 'ALAND': 11876813,\n",
       " 'AWATER': 0,\n",
       " 'LAT': 35.071062,\n",
       " 'LONG': -108.823725}"
      ]
     },
     "execution_count": 3,
     "metadata": {},
     "output_type": "execute_result"
    }
   ],
   "source": [
    "city_data[-1]"
   ]
  },
  {
   "cell_type": "code",
   "execution_count": 4,
   "metadata": {},
   "outputs": [
    {
     "data": {
      "text/plain": [
       "3592"
      ]
     },
     "execution_count": 4,
     "metadata": {},
     "output_type": "execute_result"
    }
   ],
   "source": [
    "len(city_data)"
   ]
  },
  {
   "cell_type": "code",
   "execution_count": 142,
   "metadata": {},
   "outputs": [
    {
     "data": {
      "text/html": [
       "<div>\n",
       "<style scoped>\n",
       "    .dataframe tbody tr th:only-of-type {\n",
       "        vertical-align: middle;\n",
       "    }\n",
       "\n",
       "    .dataframe tbody tr th {\n",
       "        vertical-align: top;\n",
       "    }\n",
       "\n",
       "    .dataframe thead th {\n",
       "        text-align: right;\n",
       "    }\n",
       "</style>\n",
       "<table border=\"1\" class=\"dataframe\">\n",
       "  <thead>\n",
       "    <tr style=\"text-align: right;\">\n",
       "      <th></th>\n",
       "      <th>ALAND</th>\n",
       "      <th>AWATER</th>\n",
       "      <th>LAT</th>\n",
       "      <th>LONG</th>\n",
       "      <th>NAME</th>\n",
       "      <th>POP10</th>\n",
       "      <th>STATE</th>\n",
       "      <th>UAtype</th>\n",
       "    </tr>\n",
       "  </thead>\n",
       "  <tbody>\n",
       "    <tr>\n",
       "      <th>433</th>\n",
       "      <td>10064941</td>\n",
       "      <td>27207</td>\n",
       "      <td>30.747376</td>\n",
       "      <td>-98.239011</td>\n",
       "      <td>Burnet</td>\n",
       "      <td>5428</td>\n",
       "      <td>TX</td>\n",
       "      <td>C</td>\n",
       "    </tr>\n",
       "    <tr>\n",
       "      <th>782</th>\n",
       "      <td>10302907</td>\n",
       "      <td>0</td>\n",
       "      <td>31.982557</td>\n",
       "      <td>-90.356623</td>\n",
       "      <td>Crystal Springs</td>\n",
       "      <td>5269</td>\n",
       "      <td>MS</td>\n",
       "      <td>C</td>\n",
       "    </tr>\n",
       "    <tr>\n",
       "      <th>1914</th>\n",
       "      <td>5450600</td>\n",
       "      <td>13259</td>\n",
       "      <td>38.884861</td>\n",
       "      <td>-82.965121</td>\n",
       "      <td>Lucasville</td>\n",
       "      <td>2931</td>\n",
       "      <td>OH</td>\n",
       "      <td>C</td>\n",
       "    </tr>\n",
       "    <tr>\n",
       "      <th>2015</th>\n",
       "      <td>15405602</td>\n",
       "      <td>55484</td>\n",
       "      <td>36.841814</td>\n",
       "      <td>-81.502532</td>\n",
       "      <td>Marion</td>\n",
       "      <td>7960</td>\n",
       "      <td>VA</td>\n",
       "      <td>C</td>\n",
       "    </tr>\n",
       "    <tr>\n",
       "      <th>240</th>\n",
       "      <td>21487586</td>\n",
       "      <td>27832</td>\n",
       "      <td>26.684083</td>\n",
       "      <td>-80.678914</td>\n",
       "      <td>Belle Glade</td>\n",
       "      <td>24870</td>\n",
       "      <td>FL</td>\n",
       "      <td>C</td>\n",
       "    </tr>\n",
       "  </tbody>\n",
       "</table>\n",
       "</div>"
      ],
      "text/plain": [
       "         ALAND  AWATER        LAT       LONG             NAME  POP10 STATE  \\\n",
       "433   10064941   27207  30.747376 -98.239011           Burnet   5428    TX   \n",
       "782   10302907       0  31.982557 -90.356623  Crystal Springs   5269    MS   \n",
       "1914   5450600   13259  38.884861 -82.965121       Lucasville   2931    OH   \n",
       "2015  15405602   55484  36.841814 -81.502532           Marion   7960    VA   \n",
       "240   21487586   27832  26.684083 -80.678914      Belle Glade  24870    FL   \n",
       "\n",
       "     UAtype  \n",
       "433       C  \n",
       "782       C  \n",
       "1914      C  \n",
       "2015      C  \n",
       "240       C  "
      ]
     },
     "execution_count": 142,
     "metadata": {},
     "output_type": "execute_result"
    }
   ],
   "source": [
    "df = pd.DataFrame(city_data)\n",
    "df = df.sample(len(df))#shuffle\n",
    "df.head()"
   ]
  },
  {
   "cell_type": "code",
   "execution_count": 143,
   "metadata": {},
   "outputs": [],
   "source": [
    "def to_numerical(labels):\n",
    "    numerical_dict={}\n",
    "    for label in labels:\n",
    "        if label not in numerical_dict:\n",
    "            numerical_dict[label]=len(numerical_dict)\n",
    "    return numerical_dict\n",
    "\n",
    "def to_one_hot(labels):\n",
    "    numerical = to_numerical(labels)\n",
    "    one_hot = np.zeros((len(labels),len(numerical)))\n",
    "    for i,label in enumerate(labels):\n",
    "        one_hot[i,numerical[label]]=1\n",
    "    return np.asarray(one_hot)"
   ]
  },
  {
   "cell_type": "code",
   "execution_count": 144,
   "metadata": {},
   "outputs": [
    {
     "name": "stdout",
     "output_type": "stream",
     "text": [
      "[ 1.0064941e+07  2.7207000e+04  3.0747376e+01 -9.8239011e+01]\n"
     ]
    }
   ],
   "source": [
    "#normalise data\n",
    "train, test = (0.8,0.2)\n",
    "numeric_data = np.asarray(df[['ALAND','AWATER','LAT','LONG']].values)\n",
    "print(numeric_data[0])\n",
    "mean=[]\n",
    "std=[]\n",
    "def normalize_data(numeric_data,fraction):\n",
    "    global mean, std\n",
    "    train_size = int(len(numeric_data)*fraction)\n",
    "    mean =  numeric_data[:train_size].mean(axis=0)\n",
    "    std =  numeric_data[:train_size].std(axis=0)\n",
    "    return (numeric_data - mean)/std\n",
    " \n",
    "numeric_data = normalize_data(numeric_data,train)\n"
   ]
  },
  {
   "cell_type": "code",
   "execution_count": 145,
   "metadata": {},
   "outputs": [
    {
     "data": {
      "text/plain": [
       "2.5"
      ]
     },
     "execution_count": 145,
     "metadata": {},
     "output_type": "execute_result"
    }
   ],
   "source": [
    "#encode data\n",
    "states = to_one_hot(df['STATE'].values)\n",
    "UA = to_one_hot(df['UAtype'].values)\n",
    "numeric_data = np.concatenate((numeric_data,states,UA),axis=1)\n",
    "#merge all data\n",
    "population = np.asarray(df['POP10'].values).astype(np.float32)/1000#population in thousands\n",
    "population = population.reshape(len(population),1)\n",
    "population.min()"
   ]
  },
  {
   "cell_type": "code",
   "execution_count": 146,
   "metadata": {},
   "outputs": [
    {
     "data": {
      "text/plain": [
       "(3592, 158)"
      ]
     },
     "execution_count": 146,
     "metadata": {},
     "output_type": "execute_result"
    }
   ],
   "source": [
    "numeric_data.shape"
   ]
  },
  {
   "cell_type": "code",
   "execution_count": 147,
   "metadata": {},
   "outputs": [
    {
     "name": "stdout",
     "output_type": "stream",
     "text": [
      "(2873, 158)\n",
      "Samples per fold = 574, Number of folds= 5\n"
     ]
    }
   ],
   "source": [
    "#split data\n",
    "\n",
    "train_f, test_f = (0.8,0.2)\n",
    "train = int(train_f*len(numeric_data))\n",
    "x_train_all,x_test = (numeric_data[:train],numeric_data[train:])\n",
    "y_train_all,y_test = (population[:train],population[train:])\n",
    "\n",
    "\n",
    "print(x_train_all.shape)\n",
    "folds = 5\n",
    "sample_per_fold = train//folds #integer division\n",
    "print ('Samples per fold = {0}, Number of folds= {1}'.format(sample_per_fold,folds))\n",
    "\n"
   ]
  },
  {
   "cell_type": "code",
   "execution_count": 148,
   "metadata": {},
   "outputs": [],
   "source": [
    "from keras import Sequential\n",
    "from keras import layers\n",
    "from keras import models\n",
    "from keras import losses\n",
    "from keras import optimizers\n",
    "from keras import metrics\n",
    "\n",
    "def createmodel(nodes):\n",
    "    model = Sequential()\n",
    "    model.add(layers.Dense(nodes[0],activation='relu',input_shape=(x_train.shape[1],)))\n",
    "    for layer in range(len(nodes)-1):\n",
    "        model.add(layers.Dense(nodes[layer+1],activation='relu'))\n",
    "    model.add(layers.Dense(1))#relu activation to avoid negetives produces bad results here\n",
    "    \n",
    "    model.compile(optimizer='rmsprop',loss=['mape'],metrics=['mae'])\n",
    "    return model"
   ]
  },
  {
   "cell_type": "code",
   "execution_count": 149,
   "metadata": {},
   "outputs": [],
   "source": [
    "all_train_mae = []\n",
    "all_val_mae = []\n",
    "import matplotlib.pyplot as pp\n",
    "%matplotlib inline\n",
    "def runkfold(l):\n",
    "    global all_train_mae\n",
    "    global all_val_mae\n",
    "    all_train_mae = []\n",
    "    all_val_mae = []\n",
    "    for i in range(folds):\n",
    "        print ('Processing fold # ',i)\n",
    "        x_validate = x_train_all[i*sample_per_fold : (i+1)*sample_per_fold]\n",
    "        y_validate = y_train_all[i*sample_per_fold : (i+1)*sample_per_fold]\n",
    "\n",
    "        x_train = np.concatenate([x_train_all[:i*sample_per_fold],\n",
    "                                x_train_all[(i+1)*sample_per_fold:]])\n",
    "        y_train = np.concatenate([y_train_all[:i*sample_per_fold],\n",
    "                                y_train_all[(i+1)*sample_per_fold:]])\n",
    "        model = createmodel(l)\n",
    "        history = model.fit(x_train,y_train,\n",
    "             validation_data=(x_validate,y_validate),\n",
    "             epochs=150,\n",
    "             batch_size = 50,verbose=0)\n",
    "        all_train_mae.append(history.history['mean_absolute_error'])\n",
    "        all_val_mae.append(history.history['val_mean_absolute_error'])\n",
    "        \n"
   ]
  },
  {
   "cell_type": "code",
   "execution_count": 150,
   "metadata": {},
   "outputs": [],
   "source": [
    "def ploterrors():\n",
    "    pp.figure()\n",
    "    train_mae = np.asarray(all_train_mae).mean(axis=0)\n",
    "    val_mae = np.asarray(all_val_mae).mean(axis=0)\n",
    "    pp.plot(train_mae,label='train mae')\n",
    "    pp.plot(val_mae,label='val mae all')\n",
    "\n",
    "    for i in range(folds):\n",
    "        pp.plot(all_val_mae[i],label='val mae ' + str(i),alpha=0.3)\n",
    "    pp.xlabel('epochs')\n",
    "    pp.ylabel('mae')\n",
    "    pp.legend()\n"
   ]
  },
  {
   "cell_type": "code",
   "execution_count": 151,
   "metadata": {},
   "outputs": [
    {
     "name": "stdout",
     "output_type": "stream",
     "text": [
      "[64]\n",
      "Processing fold #  0\n",
      "Processing fold #  1\n",
      "Processing fold #  2\n",
      "Processing fold #  3\n",
      "Processing fold #  4\n"
     ]
    },
    {
     "data": {
      "image/png": "[encoded data removed]",
      "text/plain": [
       "<Figure size 432x288 with 1 Axes>"
      ]
     },
     "metadata": {
      "needs_background": "light"
     },
     "output_type": "display_data"
    },
    {
     "name": "stdout",
     "output_type": "stream",
     "text": [
      "[64, 32]\n",
      "Processing fold #  0\n",
      "Processing fold #  1\n",
      "Processing fold #  2\n",
      "Processing fold #  3\n",
      "Processing fold #  4\n"
     ]
    },
    {
     "data": {
      "image/png": "[encoded data removed]",
      "text/plain": [
       "<Figure size 432x288 with 1 Axes>"
      ]
     },
     "metadata": {
      "needs_background": "light"
     },
     "output_type": "display_data"
    },
    {
     "name": "stdout",
     "output_type": "stream",
     "text": [
      "[64, 32, 16]\n",
      "Processing fold #  0\n",
      "Processing fold #  1\n",
      "Processing fold #  2\n",
      "Processing fold #  3\n",
      "Processing fold #  4\n"
     ]
    },
    {
     "data": {
      "image/png": "[encoded data removed]",
      "text/plain": [
       "<Figure size 432x288 with 1 Axes>"
      ]
     },
     "metadata": {
      "needs_background": "light"
     },
     "output_type": "display_data"
    },
    {
     "name": "stdout",
     "output_type": "stream",
     "text": [
      "[32, 16, 16, 8]\n",
      "Processing fold #  0\n",
      "Processing fold #  1\n",
      "Processing fold #  2\n",
      "Processing fold #  3\n",
      "Processing fold #  4\n"
     ]
    },
    {
     "data": {
      "image/png": "[encoded data removed]",
      "text/plain": [
       "<Figure size 432x288 with 1 Axes>"
      ]
     },
     "metadata": {
      "needs_background": "light"
     },
     "output_type": "display_data"
    }
   ],
   "source": [
    "layers_all = [[64],[64,32],[64,32,16],[32,16,16,8]]\n",
    "for layer in layers_all:\n",
    "    print (layer)\n",
    "    runkfold(layer)\n",
    "    ploterrors()\n",
    "    pp.title('mae vs epoch {}'.format( layer))\n",
    "    pp.show()\n"
   ]
  },
  {
   "cell_type": "code",
   "execution_count": 152,
   "metadata": {},
   "outputs": [
    {
     "name": "stdout",
     "output_type": "stream",
     "text": [
      "719/719 [==============================] - 2s 3ms/step\n"
     ]
    },
    {
     "data": {
      "text/plain": [
       "[25.504961204794085, 16.65684126481227]"
      ]
     },
     "execution_count": 152,
     "metadata": {},
     "output_type": "execute_result"
    }
   ],
   "source": [
    "#[64,32,16] is the best layer combinaiton\n",
    "\n",
    "model = createmodel([64, 32, 16])\n",
    "history = model.fit(x_train_all,y_train_all,\n",
    "             epochs=150,\n",
    "             batch_size = 50, verbose=0)\n",
    "#evaluate\n",
    "model.evaluate(x_test,y_test)"
   ]
  },
  {
   "cell_type": "code",
   "execution_count": 153,
   "metadata": {},
   "outputs": [],
   "source": [
    "def seepredictions(model):\n",
    "    df_test = df.loc[df.index[train:]].copy()\n",
    "    #df.tail(len(df)-train).head(validation) #this should work too\n",
    "    pred = model.predict(x_test)*1000\n",
    "    df_test['Predictions']=pred\n",
    "    df_test['ErrorPercentage']=abs(df_test['Predictions']-df_test['POP10'])/df_test['POP10']*100\n",
    "    return df_test"
   ]
  },
  {
   "cell_type": "code",
   "execution_count": 178,
   "metadata": {},
   "outputs": [
    {
     "name": "stdout",
     "output_type": "stream",
     "text": [
      "mean percentage diff =  25.504960991256155\n",
      "Out of 719 test data, 5 are fluctuating by more than 100%\n"
     ]
    }
   ],
   "source": [
    "print('mean percentage diff = ', seepredictions(model)['ErrorPercentage'].mean())\n",
    "test_df = seepredictions(model)\n",
    "print ('Out of {} test data, {} are fluctuating by more than 100%'.format(len(test_df),len(test_df[test_df['ErrorPercentage']>100].index)))"
   ]
  },
  {
   "cell_type": "code",
   "execution_count": 185,
   "metadata": {},
   "outputs": [
    {
     "data": {
      "text/html": [
       "<div>\n",
       "<style scoped>\n",
       "    .dataframe tbody tr th:only-of-type {\n",
       "        vertical-align: middle;\n",
       "    }\n",
       "\n",
       "    .dataframe tbody tr th {\n",
       "        vertical-align: top;\n",
       "    }\n",
       "\n",
       "    .dataframe thead th {\n",
       "        text-align: right;\n",
       "    }\n",
       "</style>\n",
       "<table border=\"1\" class=\"dataframe\">\n",
       "  <thead>\n",
       "    <tr style=\"text-align: right;\">\n",
       "      <th></th>\n",
       "      <th>ALAND</th>\n",
       "      <th>AWATER</th>\n",
       "      <th>LAT</th>\n",
       "      <th>LONG</th>\n",
       "      <th>NAME</th>\n",
       "      <th>POP10</th>\n",
       "      <th>STATE</th>\n",
       "      <th>UAtype</th>\n",
       "      <th>Predictions</th>\n",
       "      <th>ErrorPercentage</th>\n",
       "    </tr>\n",
       "  </thead>\n",
       "  <tbody>\n",
       "    <tr>\n",
       "      <th>1761</th>\n",
       "      <td>641094177</td>\n",
       "      <td>7665597</td>\n",
       "      <td>40.099901</td>\n",
       "      <td>-76.315150</td>\n",
       "      <td>Lancaster</td>\n",
       "      <td>402004</td>\n",
       "      <td>PA</td>\n",
       "      <td>U</td>\n",
       "      <td>467719.37500</td>\n",
       "      <td>16.346946</td>\n",
       "    </tr>\n",
       "    <tr>\n",
       "      <th>2735</th>\n",
       "      <td>1274710664</td>\n",
       "      <td>22584241</td>\n",
       "      <td>37.477942</td>\n",
       "      <td>-77.487983</td>\n",
       "      <td>Richmond</td>\n",
       "      <td>953556</td>\n",
       "      <td>VA</td>\n",
       "      <td>U</td>\n",
       "      <td>974077.37500</td>\n",
       "      <td>2.152089</td>\n",
       "    </tr>\n",
       "    <tr>\n",
       "      <th>992</th>\n",
       "      <td>648975307</td>\n",
       "      <td>3375341</td>\n",
       "      <td>31.780239</td>\n",
       "      <td>-106.389031</td>\n",
       "      <td>El Paso</td>\n",
       "      <td>803086</td>\n",
       "      <td>TX--NM</td>\n",
       "      <td>U</td>\n",
       "      <td>403284.75000</td>\n",
       "      <td>49.783118</td>\n",
       "    </tr>\n",
       "    <tr>\n",
       "      <th>2820</th>\n",
       "      <td>1219827292</td>\n",
       "      <td>12813910</td>\n",
       "      <td>38.638578</td>\n",
       "      <td>-121.324669</td>\n",
       "      <td>Sacramento</td>\n",
       "      <td>1723634</td>\n",
       "      <td>CA</td>\n",
       "      <td>U</td>\n",
       "      <td>975469.68750</td>\n",
       "      <td>43.406217</td>\n",
       "    </tr>\n",
       "    <tr>\n",
       "      <th>2133</th>\n",
       "      <td>576933846</td>\n",
       "      <td>9972885</td>\n",
       "      <td>30.667393</td>\n",
       "      <td>-88.163449</td>\n",
       "      <td>Mobile</td>\n",
       "      <td>326183</td>\n",
       "      <td>AL</td>\n",
       "      <td>U</td>\n",
       "      <td>372524.90625</td>\n",
       "      <td>14.207333</td>\n",
       "    </tr>\n",
       "  </tbody>\n",
       "</table>\n",
       "</div>"
      ],
      "text/plain": [
       "           ALAND    AWATER        LAT        LONG        NAME    POP10  \\\n",
       "1761   641094177   7665597  40.099901  -76.315150   Lancaster   402004   \n",
       "2735  1274710664  22584241  37.477942  -77.487983    Richmond   953556   \n",
       "992    648975307   3375341  31.780239 -106.389031     El Paso   803086   \n",
       "2820  1219827292  12813910  38.638578 -121.324669  Sacramento  1723634   \n",
       "2133   576933846   9972885  30.667393  -88.163449      Mobile   326183   \n",
       "\n",
       "       STATE UAtype   Predictions  ErrorPercentage  \n",
       "1761      PA      U  467719.37500        16.346946  \n",
       "2735      VA      U  974077.37500         2.152089  \n",
       "992   TX--NM      U  403284.75000        49.783118  \n",
       "2820      CA      U  975469.68750        43.406217  \n",
       "2133      AL      U  372524.90625        14.207333  "
      ]
     },
     "execution_count": 185,
     "metadata": {},
     "output_type": "execute_result"
    }
   ],
   "source": [
    "test_df[test_df['POP10']>100000].sample(5)"
   ]
  },
  {
   "cell_type": "code",
   "execution_count": 186,
   "metadata": {},
   "outputs": [
    {
     "data": {
      "text/html": [
       "<div>\n",
       "<style scoped>\n",
       "    .dataframe tbody tr th:only-of-type {\n",
       "        vertical-align: middle;\n",
       "    }\n",
       "\n",
       "    .dataframe tbody tr th {\n",
       "        vertical-align: top;\n",
       "    }\n",
       "\n",
       "    .dataframe thead th {\n",
       "        text-align: right;\n",
       "    }\n",
       "</style>\n",
       "<table border=\"1\" class=\"dataframe\">\n",
       "  <thead>\n",
       "    <tr style=\"text-align: right;\">\n",
       "      <th></th>\n",
       "      <th>ALAND</th>\n",
       "      <th>AWATER</th>\n",
       "      <th>LAT</th>\n",
       "      <th>LONG</th>\n",
       "      <th>NAME</th>\n",
       "      <th>POP10</th>\n",
       "      <th>STATE</th>\n",
       "      <th>UAtype</th>\n",
       "      <th>Predictions</th>\n",
       "      <th>ErrorPercentage</th>\n",
       "    </tr>\n",
       "  </thead>\n",
       "  <tbody>\n",
       "    <tr>\n",
       "      <th>1317</th>\n",
       "      <td>11817615</td>\n",
       "      <td>529671</td>\n",
       "      <td>38.498966</td>\n",
       "      <td>-122.997327</td>\n",
       "      <td>Guerneville</td>\n",
       "      <td>4805</td>\n",
       "      <td>CA</td>\n",
       "      <td>C</td>\n",
       "      <td>3990.423828</td>\n",
       "      <td>16.952678</td>\n",
       "    </tr>\n",
       "    <tr>\n",
       "      <th>3451</th>\n",
       "      <td>4809551</td>\n",
       "      <td>4692</td>\n",
       "      <td>37.550722</td>\n",
       "      <td>-76.812980</td>\n",
       "      <td>West Point</td>\n",
       "      <td>2675</td>\n",
       "      <td>VA</td>\n",
       "      <td>C</td>\n",
       "      <td>3410.743652</td>\n",
       "      <td>27.504436</td>\n",
       "    </tr>\n",
       "    <tr>\n",
       "      <th>2282</th>\n",
       "      <td>3388284</td>\n",
       "      <td>0</td>\n",
       "      <td>38.538515</td>\n",
       "      <td>-89.696976</td>\n",
       "      <td>New Baden</td>\n",
       "      <td>3424</td>\n",
       "      <td>IL</td>\n",
       "      <td>C</td>\n",
       "      <td>2679.464355</td>\n",
       "      <td>21.744616</td>\n",
       "    </tr>\n",
       "    <tr>\n",
       "      <th>37</th>\n",
       "      <td>7434016</td>\n",
       "      <td>56074</td>\n",
       "      <td>41.890344</td>\n",
       "      <td>-80.355166</td>\n",
       "      <td>Albion</td>\n",
       "      <td>4574</td>\n",
       "      <td>PA</td>\n",
       "      <td>C</td>\n",
       "      <td>3775.866943</td>\n",
       "      <td>17.449345</td>\n",
       "    </tr>\n",
       "    <tr>\n",
       "      <th>2465</th>\n",
       "      <td>13770881</td>\n",
       "      <td>866486</td>\n",
       "      <td>37.270814</td>\n",
       "      <td>-107.071991</td>\n",
       "      <td>Pagosa Springs</td>\n",
       "      <td>4909</td>\n",
       "      <td>CO</td>\n",
       "      <td>C</td>\n",
       "      <td>5489.715332</td>\n",
       "      <td>11.829605</td>\n",
       "    </tr>\n",
       "  </tbody>\n",
       "</table>\n",
       "</div>"
      ],
      "text/plain": [
       "         ALAND  AWATER        LAT        LONG            NAME  POP10 STATE  \\\n",
       "1317  11817615  529671  38.498966 -122.997327     Guerneville   4805    CA   \n",
       "3451   4809551    4692  37.550722  -76.812980      West Point   2675    VA   \n",
       "2282   3388284       0  38.538515  -89.696976       New Baden   3424    IL   \n",
       "37     7434016   56074  41.890344  -80.355166          Albion   4574    PA   \n",
       "2465  13770881  866486  37.270814 -107.071991  Pagosa Springs   4909    CO   \n",
       "\n",
       "     UAtype  Predictions  ErrorPercentage  \n",
       "1317      C  3990.423828        16.952678  \n",
       "3451      C  3410.743652        27.504436  \n",
       "2282      C  2679.464355        21.744616  \n",
       "37        C  3775.866943        17.449345  \n",
       "2465      C  5489.715332        11.829605  "
      ]
     },
     "execution_count": 186,
     "metadata": {},
     "output_type": "execute_result"
    }
   ],
   "source": [
    "test_df[test_df['POP10']<5000].sample(5)"
   ]
  },
  {
   "cell_type": "code",
   "execution_count": null,
   "metadata": {},
   "outputs": [],
   "source": []
  }
 ],
 "metadata": {
  "kernelspec": {
   "display_name": "Python 3",
   "language": "python",
   "name": "python3"
  },
  "language_info": {
   "codemirror_mode": {
    "name": "ipython",
    "version": 3
   },
   "file_extension": ".py",
   "mimetype": "text/x-python",
   "name": "python",
   "nbconvert_exporter": "python",
   "pygments_lexer": "ipython3",
   "version": "3.6.6"
  }
 },
 "nbformat": 4,
 "nbformat_minor": 2
}
