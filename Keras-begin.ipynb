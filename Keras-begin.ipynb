{
 "cells": [
  {
   "cell_type": "markdown",
   "metadata": {},
   "source": [
    "# Find population of a US CITY based on\n",
    "    \n",
    "    ALAND\n",
    "    AWATER\n",
    "    LAT\n",
    "    LONG\n",
    "    STATE\n",
    "    UAtype\n",
    "\n",
    "\n",
    "steps to train a DNN¶\n",
    "1. Prepare data\n",
    "_ clean data\n",
    "_ vectorize/encode data\n",
    "_ split data in train,validation and test data\n",
    "2. Train model\n",
    "_ create model and layers\n",
    "_ compile mode(optimizer , metrics, loss)\n",
    "_ fit model(train data, validation data, epochs, mini batch size)\n",
    "3. Validate model\n",
    "_ validate on test data\n",
    "4. Repeat\n"
   ]
  },
  {
   "cell_type": "code",
   "execution_count": 2,
   "metadata": {},
   "outputs": [],
   "source": [
    "import pandas as pd\n",
    "import numpy as np\n"
   ]
  },
  {
   "cell_type": "code",
   "execution_count": 3,
   "metadata": {},
   "outputs": [],
   "source": [
    "#prepare data\n",
    "city_data = []\n",
    "#00037\tAbbeville, LA Urban Cluster\tC\t19824\t8460\t29222871\t300497\t      11.283\t       0.116\t 29.967602\t -92.098219  \n",
    "def parseline(line):\n",
    "    parts = line.split('\\t')\n",
    "    data={}\n",
    "    namepart = parts[1].split(',')\n",
    "    data['NAME']=namepart[0]\n",
    "    data['STATE']=namepart[1].strip().split()[0].strip()\n",
    "    data['UAtype']=parts[2]\n",
    "    data['POP10']= int(parts[3])\n",
    "    data['ALAND']= int(parts[5])\n",
    "    data['AWATER']= int(parts[6])\n",
    "    data['LAT']=float(parts[9])\n",
    "    data['LONG']=float(parts[10])\n",
    "    return data\n",
    "with open('Gaz_ua_national.txt','r') as file:\n",
    "    city_data = [ parseline(line.strip()) for line in file.readlines()[1:]]"
   ]
  },
  {
   "cell_type": "code",
   "execution_count": 4,
   "metadata": {},
   "outputs": [
    {
     "data": {
      "text/plain": [
       "{'NAME': 'Zuni Pueblo',\n",
       " 'STATE': 'NM',\n",
       " 'UAtype': 'C',\n",
       " 'POP10': 6744,\n",
       " 'ALAND': 11876813,\n",
       " 'AWATER': 0,\n",
       " 'LAT': 35.071062,\n",
       " 'LONG': -108.823725}"
      ]
     },
     "execution_count": 4,
     "metadata": {},
     "output_type": "execute_result"
    }
   ],
   "source": [
    "city_data[-1]"
   ]
  },
  {
   "cell_type": "code",
   "execution_count": 5,
   "metadata": {},
   "outputs": [
    {
     "data": {
      "text/plain": [
       "3592"
      ]
     },
     "execution_count": 5,
     "metadata": {},
     "output_type": "execute_result"
    }
   ],
   "source": [
    "len(city_data)"
   ]
  },
  {
   "cell_type": "code",
   "execution_count": 1,
   "metadata": {},
   "outputs": [
    {
     "ename": "NameError",
     "evalue": "name 'pd' is not defined",
     "output_type": "error",
     "traceback": [
      "\u001b[1;31m---------------------------------------------------------------------------\u001b[0m",
      "\u001b[1;31mNameError\u001b[0m                                 Traceback (most recent call last)",
      "\u001b[1;32m<ipython-input-1-7361b63e3af6>\u001b[0m in \u001b[0;36m<module>\u001b[1;34m\u001b[0m\n\u001b[1;32m----> 1\u001b[1;33m \u001b[0mdf\u001b[0m \u001b[1;33m=\u001b[0m \u001b[0mpd\u001b[0m\u001b[1;33m.\u001b[0m\u001b[0mDataFrame\u001b[0m\u001b[1;33m(\u001b[0m\u001b[0mcity_data\u001b[0m\u001b[1;33m)\u001b[0m\u001b[1;33m\u001b[0m\u001b[0m\n\u001b[0m\u001b[0;32m      2\u001b[0m \u001b[0mdf\u001b[0m \u001b[1;33m=\u001b[0m \u001b[0mdf\u001b[0m\u001b[1;33m.\u001b[0m\u001b[0msample\u001b[0m\u001b[1;33m(\u001b[0m\u001b[0mlen\u001b[0m\u001b[1;33m(\u001b[0m\u001b[0mdf\u001b[0m\u001b[1;33m)\u001b[0m\u001b[1;33m)\u001b[0m\u001b[1;33m\u001b[0m\u001b[0m\n\u001b[0;32m      3\u001b[0m \u001b[0mdf\u001b[0m\u001b[1;33m.\u001b[0m\u001b[0mhead\u001b[0m\u001b[1;33m(\u001b[0m\u001b[1;33m)\u001b[0m\u001b[1;33m\u001b[0m\u001b[0m\n",
      "\u001b[1;31mNameError\u001b[0m: name 'pd' is not defined"
     ]
    }
   ],
   "source": [
    "df = pd.DataFrame(city_data)\n",
    "df = df.sample(len(df))\n",
    "df.head()"
   ]
  },
  {
   "cell_type": "code",
   "execution_count": 2,
   "metadata": {},
   "outputs": [],
   "source": [
    "def to_numerical(labels):\n",
    "    numerical_dict={}\n",
    "    for label in labels:\n",
    "        if label not in numerical_dict:\n",
    "            numerical_dict[label]=len(numerical_dict)\n",
    "    return numerical_dict\n",
    "\n",
    "def to_one_hot(labels):\n",
    "    numerical = to_numerical(labels)\n",
    "    one_hot = np.zeros((len(labels),len(numerical)))\n",
    "    for i,label in enumerate(labels):\n",
    "        one_hot[i,numerical[label]]=1\n",
    "    return np.asarray(one_hot)"
   ]
  },
  {
   "cell_type": "code",
   "execution_count": 8,
   "metadata": {},
   "outputs": [
    {
     "data": {
      "text/plain": [
       "numpy.ndarray"
      ]
     },
     "execution_count": 8,
     "metadata": {},
     "output_type": "execute_result"
    }
   ],
   "source": [
    "type(to_one_hot(df['STATE']))"
   ]
  },
  {
   "cell_type": "code",
   "execution_count": 9,
   "metadata": {},
   "outputs": [
    {
     "data": {
      "text/html": [
       "<div>\n",
       "<style scoped>\n",
       "    .dataframe tbody tr th:only-of-type {\n",
       "        vertical-align: middle;\n",
       "    }\n",
       "\n",
       "    .dataframe tbody tr th {\n",
       "        vertical-align: top;\n",
       "    }\n",
       "\n",
       "    .dataframe thead th {\n",
       "        text-align: right;\n",
       "    }\n",
       "</style>\n",
       "<table border=\"1\" class=\"dataframe\">\n",
       "  <thead>\n",
       "    <tr style=\"text-align: right;\">\n",
       "      <th></th>\n",
       "      <th>ALAND</th>\n",
       "      <th>AWATER</th>\n",
       "      <th>LAT</th>\n",
       "      <th>LONG</th>\n",
       "      <th>NAME</th>\n",
       "      <th>POP10</th>\n",
       "      <th>STATE</th>\n",
       "      <th>UAtype</th>\n",
       "    </tr>\n",
       "  </thead>\n",
       "  <tbody>\n",
       "    <tr>\n",
       "      <th>0</th>\n",
       "      <td>29222871</td>\n",
       "      <td>300497</td>\n",
       "      <td>29.967602</td>\n",
       "      <td>-92.098219</td>\n",
       "      <td>Abbeville</td>\n",
       "      <td>19824</td>\n",
       "      <td>LA</td>\n",
       "      <td>C</td>\n",
       "    </tr>\n",
       "    <tr>\n",
       "      <th>1</th>\n",
       "      <td>11315197</td>\n",
       "      <td>19786</td>\n",
       "      <td>34.179237</td>\n",
       "      <td>-82.379726</td>\n",
       "      <td>Abbeville</td>\n",
       "      <td>5243</td>\n",
       "      <td>SC</td>\n",
       "      <td>C</td>\n",
       "    </tr>\n",
       "    <tr>\n",
       "      <th>2</th>\n",
       "      <td>5363441</td>\n",
       "      <td>13221</td>\n",
       "      <td>44.948612</td>\n",
       "      <td>-90.315875</td>\n",
       "      <td>Abbotsford</td>\n",
       "      <td>3966</td>\n",
       "      <td>WI</td>\n",
       "      <td>C</td>\n",
       "    </tr>\n",
       "    <tr>\n",
       "      <th>3</th>\n",
       "      <td>7416616</td>\n",
       "      <td>52732</td>\n",
       "      <td>33.824742</td>\n",
       "      <td>-88.554591</td>\n",
       "      <td>Aberdeen</td>\n",
       "      <td>4666</td>\n",
       "      <td>MS</td>\n",
       "      <td>C</td>\n",
       "    </tr>\n",
       "    <tr>\n",
       "      <th>4</th>\n",
       "      <td>33002447</td>\n",
       "      <td>247597</td>\n",
       "      <td>45.463186</td>\n",
       "      <td>-98.471033</td>\n",
       "      <td>Aberdeen</td>\n",
       "      <td>25977</td>\n",
       "      <td>SD</td>\n",
       "      <td>C</td>\n",
       "    </tr>\n",
       "  </tbody>\n",
       "</table>\n",
       "</div>"
      ],
      "text/plain": [
       "      ALAND  AWATER        LAT       LONG        NAME  POP10 STATE UAtype\n",
       "0  29222871  300497  29.967602 -92.098219   Abbeville  19824    LA      C\n",
       "1  11315197   19786  34.179237 -82.379726   Abbeville   5243    SC      C\n",
       "2   5363441   13221  44.948612 -90.315875  Abbotsford   3966    WI      C\n",
       "3   7416616   52732  33.824742 -88.554591    Aberdeen   4666    MS      C\n",
       "4  33002447  247597  45.463186 -98.471033    Aberdeen  25977    SD      C"
      ]
     },
     "execution_count": 9,
     "metadata": {},
     "output_type": "execute_result"
    }
   ],
   "source": [
    "df.head()"
   ]
  },
  {
   "cell_type": "code",
   "execution_count": 63,
   "metadata": {},
   "outputs": [
    {
     "name": "stdout",
     "output_type": "stream",
     "text": [
      "[ 2.9222871e+07  3.0049700e+05  2.9967602e+01 -9.2098219e+01]\n",
      "[ 7.63547291e+07  1.77061862e+06  3.79396278e+01 -9.32213446e+01]\n"
     ]
    },
    {
     "data": {
      "text/plain": [
       "array([-0.13612293, -0.13034352, -1.40994277,  0.07490752])"
      ]
     },
     "execution_count": 63,
     "metadata": {},
     "output_type": "execute_result"
    }
   ],
   "source": [
    "#normalixe data\n",
    "train, validation, test = (0.6,0.2,0.2)\n",
    "numeric_data = np.asarray(df[['ALAND','AWATER','LAT','LONG']].values)\n",
    "print(numeric_data[0])\n",
    "mean=[]\n",
    "std=[]\n",
    "def normalize_data(numeric_data,fraction):\n",
    "    global mean, std\n",
    "    train_size = int(len(numeric_data)*fraction)\n",
    "    mean =  numeric_data[:train_size].mean(axis=0)\n",
    "    std =  numeric_data[:train_size].std(axis=0)\n",
    "    return (numeric_data - mean)/std\n",
    " \n",
    "numeric_data = normalize_data(numeric_data,train)\n",
    "print(mean)\n",
    "std\n",
    "numeric_data[0]"
   ]
  },
  {
   "cell_type": "code",
   "execution_count": 70,
   "metadata": {},
   "outputs": [
    {
     "data": {
      "text/plain": [
       "(3592, 1)"
      ]
     },
     "execution_count": 70,
     "metadata": {},
     "output_type": "execute_result"
    }
   ],
   "source": [
    "states = to_one_hot(df['STATE'].values)\n",
    "UA = to_one_hot(df['UAtype'].values)\n",
    "numeric_data = np.concatenate((numeric_data,states,UA),axis=1)\n",
    "\n",
    "population = np.asarray(df['POP10'].values).astype(np.float32)\n",
    "population = house_prices.reshape(len(house_prices),1)\n",
    "population.shape"
   ]
  },
  {
   "cell_type": "code",
   "execution_count": 71,
   "metadata": {},
   "outputs": [
    {
     "data": {
      "text/plain": [
       "(3592, 312)"
      ]
     },
     "execution_count": 71,
     "metadata": {},
     "output_type": "execute_result"
    }
   ],
   "source": [
    "numeric_data.shape"
   ]
  },
  {
   "cell_type": "code",
   "execution_count": 78,
   "metadata": {},
   "outputs": [
    {
     "name": "stdout",
     "output_type": "stream",
     "text": [
      "2873\n"
     ]
    }
   ],
   "source": [
    "train_f, validation_f, test_f = (0.6,0.2,0.2)\n",
    "train = int(train_f*len(numeric_data))\n",
    "validation = int((train_f+validation_f)*len(numeric_data))\n",
    "print(validation)\n",
    "x_train,x_validate,x_test = (numeric_data[:train],numeric_data[train:(validation)],numeric_data[validation:])\n",
    "y_train,y_validate,y_test = (population[:train],population[train:(validation)],population[validation:])"
   ]
  },
  {
   "cell_type": "code",
   "execution_count": 79,
   "metadata": {},
   "outputs": [
    {
     "data": {
      "text/plain": [
       "((2155, 312), (718, 312), (719, 312))"
      ]
     },
     "execution_count": 79,
     "metadata": {},
     "output_type": "execute_result"
    }
   ],
   "source": [
    "x_train.shape,x_validate.shape,x_test.shape"
   ]
  },
  {
   "cell_type": "code",
   "execution_count": null,
   "metadata": {},
   "outputs": [],
   "source": []
  }
 ],
 "metadata": {
  "kernelspec": {
   "display_name": "Python 3",
   "language": "python",
   "name": "python3"
  },
  "language_info": {
   "codemirror_mode": {
    "name": "ipython",
    "version": 3
   },
   "file_extension": ".py",
   "mimetype": "text/x-python",
   "name": "python",
   "nbconvert_exporter": "python",
   "pygments_lexer": "ipython3",
   "version": "3.6.6"
  }
 },
 "nbformat": 4,
 "nbformat_minor": 2
}
